{
 "cells": [
  {
   "cell_type": "markdown",
   "metadata": {},
   "source": [
    "#### policy improvement\n",
    "* loop all states\n",
    "* on each state\n",
    "    * save old policy\n",
    "    * create new policy maximizing current reward + next state reward\n",
    "* until no policy step changes"
   ]
  },
  {
   "cell_type": "code",
   "execution_count": 1,
   "metadata": {},
   "outputs": [],
   "source": [
    "import gym\n",
    "import lib\n",
    "import numpy as np"
   ]
  },
  {
   "cell_type": "code",
   "execution_count": 5,
   "metadata": {},
   "outputs": [],
   "source": [
    "GAMMA  = 1\n",
    "THETA =1e-5"
   ]
  },
  {
   "cell_type": "markdown",
   "metadata": {},
   "source": [
    "#### policy iteration"
   ]
  },
  {
   "cell_type": "code",
   "execution_count": 21,
   "metadata": {},
   "outputs": [],
   "source": [
    "def policy_iteration(policy, env):\n",
    "    num_states    = env.nS\n",
    "    num_actions   = env.nA\n",
    "    transitions   = env.P\n",
    "    policy_stable = True\n",
    "    \n",
    "    while policy_stable:\n",
    "        V = policy_evaluation(policy, env) # create state value matrix for the given policy\n",
    "        for state in range(num_states):\n",
    "            old_action = np.argmax(policy[state])\n",
    "            new_action_values = np.zeros(num_actions)\n",
    "            for action in range(num_actions):\n",
    "                for probability, nextstate, reward, _ in transitions[state][action]:\n",
    "                    new_action_values[action] += probability*(reward+GAMMA*V[nextstate])\n",
    "            new_action = np.argmax(new_action_values)\n",
    "            policy_stable = (new_action == old_action)\n",
    "            # replace policy[state] with a new vector\n",
    "            policy[state] = np.eye(num_actions)[new_action]\n",
    "        if policy_stable:\n",
    "            return policy, V\n",
    "        "
   ]
  },
  {
   "cell_type": "markdown",
   "metadata": {},
   "source": [
    "#### policy evaluation"
   ]
  },
  {
   "cell_type": "code",
   "execution_count": 65,
   "metadata": {},
   "outputs": [],
   "source": [
    "def policy_evaluation(policy, env):\n",
    "    \n",
    "    num_states   = env.nS # number of states of the env\n",
    "    num_action   = env.nA # number of actions of the env\n",
    "    transitions = env.P # transition to the next state\n",
    "    \n",
    "    V = np.array(np.zeros(num_states)) # initialize state Value matrix \n",
    "    \n",
    "    for a in range(1000):\n",
    "        delta = 0\n",
    "        for state in range(num_states):\n",
    "            new_value = 0\n",
    "            # update rule : V(s) = sum(pi(a|s)) * sum(p(s,a))* [r+gamma*V(s')]\n",
    "            # sum over actions\n",
    "            for action, p_action in enumerate(policy[state]):\n",
    "                # sum over s', r\n",
    "                for probability, nextstate, reward, _ in transitions[state][action]:\n",
    "                    new_value += p_action*probability*(reward+GAMMA*V[nextstate])\n",
    "            delta = max(delta,np.abs(new_value-V[state]))\n",
    "            V[state] = new_value\n",
    "        if delta<THETA:\n",
    "            break\n",
    "    return V # return value evaluation for the given policy"
   ]
  },
  {
   "cell_type": "code",
   "execution_count": 69,
   "metadata": {},
   "outputs": [],
   "source": [
    "env = gym.make('FrozenLake-v0')\n",
    "env = env.env"
   ]
  },
  {
   "cell_type": "code",
   "execution_count": 70,
   "metadata": {},
   "outputs": [],
   "source": [
    "random_policy = np.ones([env.nS,env.nA])/env.nA"
   ]
  },
  {
   "cell_type": "code",
   "execution_count": 71,
   "metadata": {},
   "outputs": [
    {
     "name": "stdout",
     "output_type": "stream",
     "text": [
      "[0.013911   0.01161424 0.02094062 0.01046758 0.01623478 0.\n",
      " 0.04074774 0.         0.03479961 0.08816698 0.14205099 0.\n",
      " 0.         0.17581855 0.4392897  0.        ]\n"
     ]
    }
   ],
   "source": [
    "v_k = policy_evaluation(random_policy, env)\n",
    "print(v_k)"
   ]
  },
  {
   "cell_type": "code",
   "execution_count": 72,
   "metadata": {},
   "outputs": [
    {
     "name": "stdout",
     "output_type": "stream",
     "text": [
      "[[1. 0. 0. 0.]\n",
      " [0. 0. 0. 1.]\n",
      " [1. 0. 0. 0.]\n",
      " [0. 0. 0. 1.]\n",
      " [1. 0. 0. 0.]\n",
      " [1. 0. 0. 0.]\n",
      " [1. 0. 0. 0.]\n",
      " [1. 0. 0. 0.]\n",
      " [0. 0. 0. 1.]\n",
      " [0. 1. 0. 0.]\n",
      " [1. 0. 0. 0.]\n",
      " [1. 0. 0. 0.]\n",
      " [1. 0. 0. 0.]\n",
      " [0. 0. 1. 0.]\n",
      " [0. 1. 0. 0.]\n",
      " [1. 0. 0. 0.]]\n"
     ]
    }
   ],
   "source": [
    "optimal_policy, optimal_value = policy_iteration(random_policy, env)\n",
    "print(optimal_policy)"
   ]
  },
  {
   "cell_type": "code",
   "execution_count": 73,
   "metadata": {},
   "outputs": [
    {
     "name": "stdout",
     "output_type": "stream",
     "text": [
      "[0.013911   0.01161424 0.02094062 0.01046758 0.01623478 0.\n",
      " 0.04074774 0.         0.03479961 0.08816698 0.14205099 0.\n",
      " 0.         0.17581855 0.4392897  0.        ]\n"
     ]
    }
   ],
   "source": [
    "print(optimal_value)"
   ]
  },
  {
   "cell_type": "code",
   "execution_count": null,
   "metadata": {},
   "outputs": [],
   "source": []
  },
  {
   "cell_type": "code",
   "execution_count": null,
   "metadata": {},
   "outputs": [],
   "source": []
  }
 ],
 "metadata": {
  "kernelspec": {
   "display_name": "Python 3",
   "language": "python",
   "name": "python3"
  },
  "language_info": {
   "codemirror_mode": {
    "name": "ipython",
    "version": 3
   },
   "file_extension": ".py",
   "mimetype": "text/x-python",
   "name": "python",
   "nbconvert_exporter": "python",
   "pygments_lexer": "ipython3",
   "version": "3.6.8"
  }
 },
 "nbformat": 4,
 "nbformat_minor": 2
}
