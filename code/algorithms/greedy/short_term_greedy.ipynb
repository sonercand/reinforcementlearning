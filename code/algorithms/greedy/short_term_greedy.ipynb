{
 "cells": [
  {
   "cell_type": "markdown",
   "metadata": {},
   "source": [
    "2 paths starting from the same start and ending on the same point\n",
    ">                5=>9=>99\n",
    "        start ->             =>end \n",
    "                 8=>6=>3\n",
    "                               "
   ]
  },
  {
   "cell_type": "markdown",
   "metadata": {},
   "source": [
    "#### find the optimum path by being able to see the reward only one step at a time"
   ]
  },
  {
   "cell_type": "code",
   "execution_count": 2,
   "metadata": {},
   "outputs": [],
   "source": [
    "env_ = {\n",
    "    5: {\n",
    "        9:{\n",
    "            99: 'End'\n",
    "        }\n",
    "    }, \n",
    "    8: {\n",
    "        6:{\n",
    "            3: 'End'\n",
    "        }\n",
    "    }\n",
    "}"
   ]
  },
  {
   "cell_type": "code",
   "execution_count": 21,
   "metadata": {},
   "outputs": [],
   "source": [
    "# recursive policy function\n",
    "# current_state \n",
    "def policy(current_state, total_reward=0):\n",
    "    if (not isinstance(current_state, dict)):\n",
    "        print('total_reward: '+str(total_reward))\n",
    "    else:\n",
    "        new_state = max(current_state.keys()) \n",
    "        print('current_state: '+str(new_state))\n",
    "        policy(current_state[new_state], total_reward+new_state)\n",
    "        "
   ]
  },
  {
   "cell_type": "code",
   "execution_count": 22,
   "metadata": {},
   "outputs": [
    {
     "name": "stdout",
     "output_type": "stream",
     "text": [
      "current_state: 8\n",
      "current_state: 6\n",
      "current_state: 3\n",
      "total_reward: 17\n"
     ]
    }
   ],
   "source": [
    "policy(env_)"
   ]
  },
  {
   "cell_type": "code",
   "execution_count": null,
   "metadata": {},
   "outputs": [],
   "source": []
  }
 ],
 "metadata": {
  "kernelspec": {
   "display_name": "Python 3",
   "language": "python",
   "name": "python3"
  },
  "language_info": {
   "codemirror_mode": {
    "name": "ipython",
    "version": 3
   },
   "file_extension": ".py",
   "mimetype": "text/x-python",
   "name": "python",
   "nbconvert_exporter": "python",
   "pygments_lexer": "ipython3",
   "version": "3.6.5"
  }
 },
 "nbformat": 4,
 "nbformat_minor": 2
}
