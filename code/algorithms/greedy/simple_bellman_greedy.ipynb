{
 "cells": [
  {
   "cell_type": "markdown",
   "metadata": {},
   "source": [
    "#### environments"
   ]
  },
  {
   "cell_type": "code",
   "execution_count": 237,
   "metadata": {},
   "outputs": [],
   "source": [
    "env_ = {\n",
    "    4: {\n",
    "        100:{\n",
    "            150:{\n",
    "                2: 'End'\n",
    "            }\n",
    "        }\n",
    "    },\n",
    "    5:{\n",
    "        60:{\n",
    "            20:{\n",
    "                4: 'End'\n",
    "            }\n",
    "        }\n",
    "    },\n",
    "    100:{\n",
    "        5:{\n",
    "            10:{\n",
    "                'End'\n",
    "            }\n",
    "        }\n",
    "    }\n",
    "}"
   ]
  },
  {
   "cell_type": "code",
   "execution_count": 312,
   "metadata": {},
   "outputs": [],
   "source": [
    "pet_env = {\n",
    "    1: {\n",
    "        2: {\n",
    "            4: {\n",
    "                8: 'End'\n",
    "            }\n",
    "        }\n",
    "    },\n",
    "    10:{\n",
    "        20: {\n",
    "            10:{\n",
    "                -10:{\n",
    "                    4: 'End'\n",
    "                },\n",
    "                300: 'End'\n",
    "            },\n",
    "               50:{\n",
    "                100:{\n",
    "                    200:{\n",
    "                        -5:'End',\n",
    "                        1:'End'\n",
    "                    }\n",
    "                }\n",
    "            }\n",
    "        }\n",
    "        \n",
    "    }\n",
    "    \n",
    "}"
   ]
  },
  {
   "cell_type": "markdown",
   "metadata": {},
   "source": [
    "#### get values"
   ]
  },
  {
   "cell_type": "code",
   "execution_count": 314,
   "metadata": {},
   "outputs": [],
   "source": [
    "def get_next_state_value(current_state,gamma=1):\n",
    "    if isinstance(current_state,dict):\n",
    "        return sum([key + gamma*get_next_state_value(value,gamma=gamma*gamma) for key,value in current_state.items()])\n",
    "    else:\n",
    "        return 0"
   ]
  },
  {
   "cell_type": "markdown",
   "metadata": {},
   "source": [
    "#### greedy bellman policy"
   ]
  },
  {
   "cell_type": "code",
   "execution_count": 335,
   "metadata": {},
   "outputs": [],
   "source": [
    "def get_bellman_greedy_policy(current_state,gamma=1,k=0):\n",
    "    k+=1\n",
    "    if k<2:\n",
    "        print('start')\n",
    "    else:\n",
    "        pass\n",
    "    # select path\n",
    "    bellman_val={}\n",
    "    if isinstance(current_state,dict):\n",
    "        bellman_val = {(key + get_next_state_value(value,gamma=1),key):value for key, value in current_state.items()} # value of a given state\n",
    "        print( \"selected path => \"+ str(max(bellman_val.keys())[1]) + \" has the value of \"+ str(max(bellman_val)[0]) )\n",
    "        new_state = bellman_val[max(bellman_val.keys())]\n",
    "        get_bellman_greedy_policy(new_state,gamma=1,k=k) # recursive\n",
    "    else:\n",
    "        print('finish')\n",
    "        pass\n",
    "    "
   ]
  },
  {
   "cell_type": "code",
   "execution_count": 336,
   "metadata": {
    "scrolled": false
   },
   "outputs": [
    {
     "name": "stdout",
     "output_type": "stream",
     "text": [
      "start\n",
      "selected path => 10 has the value of 680\n",
      "selected path => 20 has the value of 670\n",
      "selected path => 50 has the value of 346\n",
      "selected path => 100 has the value of 296\n",
      "selected path => 200 has the value of 196\n",
      "selected path => 1 has the value of 1\n",
      "finish\n"
     ]
    }
   ],
   "source": [
    "get_bellman_greedy_policy(pet_env)"
   ]
  },
  {
   "cell_type": "code",
   "execution_count": 337,
   "metadata": {},
   "outputs": [
    {
     "name": "stdout",
     "output_type": "stream",
     "text": [
      "start\n",
      "selected path => 4 has the value of 256\n",
      "selected path => 100 has the value of 252\n",
      "selected path => 150 has the value of 152\n",
      "selected path => 2 has the value of 2\n",
      "finish\n"
     ]
    }
   ],
   "source": [
    "get_bellman_greedy_policy(env_)"
   ]
  }
 ],
 "metadata": {
  "kernelspec": {
   "display_name": "Python 3",
   "language": "python",
   "name": "python3"
  },
  "language_info": {
   "codemirror_mode": {
    "name": "ipython",
    "version": 3
   },
   "file_extension": ".py",
   "mimetype": "text/x-python",
   "name": "python",
   "nbconvert_exporter": "python",
   "pygments_lexer": "ipython3",
   "version": "3.6.5"
  }
 },
 "nbformat": 4,
 "nbformat_minor": 2
}
